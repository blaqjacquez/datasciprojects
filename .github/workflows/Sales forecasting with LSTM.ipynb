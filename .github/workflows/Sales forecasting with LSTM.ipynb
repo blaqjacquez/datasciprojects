{
  "cells": [
    {
      "cell_type": "code",
      "source": [
        "import pandas as pd\n",
        "import numpy as np\n",
        "import matplotlib.pyplot as plt\n",
        "import seaborn as sns\n",
        "from sklearn.model_selection import train_test_split\n",
        "from sklearn.linear_model import LinearRegression\n",
        "from sklearn.metrics import mean_absolute_error, mean_squared_error\n",
        "from azure.storage.blob import BlobServiceClient\n",
        "from io import StringIO"
      ],
      "outputs": [
        {
          "output_type": "display_data",
          "data": {
            "application/vnd.livy.statement-meta+json": {
              "spark_pool": "61faeae0-f889-4e44-aa8e-c51ade462ab5",
              "statement_id": 37,
              "statement_ids": [
                37
              ],
              "state": "finished",
              "livy_statement_state": "available",
              "spark_jobs": {
                "numbers": {
                  "FAILED": 0,
                  "RUNNING": 0,
                  "SUCCEEDED": 0,
                  "UNKNOWN": 0
                },
                "jobs": [],
                "limit": 20,
                "rule": "ALL_DESC"
              },
              "session_id": "28",
              "normalized_state": "finished",
              "queued_time": "2024-09-19T14:22:25.662636Z",
              "session_start_time": null,
              "execution_start_time": "2024-09-19T14:22:25.7874591Z",
              "execution_finish_time": "2024-09-19T14:22:26.0793614Z",
              "parent_msg_id": "78ef2355-3517-47cc-b75e-3a4b52b0219c"
            },
            "text/plain": "StatementMeta(61faeae0-f889-4e44-aa8e-c51ade462ab5, 28, 37, Finished, Available, Finished)"
          },
          "metadata": {}
        }
      ],
      "execution_count": 32,
      "metadata": {
        "gather": {
          "logged": 1726755745424
        }
      }
    },
    {
      "cell_type": "code",
      "source": [
        "from azure.storage.blob import BlobServiceClient\n",
        "import pandas as pd\n",
        "from io import BytesIO\n",
        "\n",
        "# Connection string to Azure Blob Storage\n",
        "connection_string = 'DefaultEndpointsProtocol=https;AccountName=mypersonalproj8266391869;AccountKey=jzJkUpyo3lbTDGsQNsz40yUIVjQspfkCThdgnEZWyXjQFnOfdi6Ru330RgRt4NUoeFoqq++3V4Ts+ASter4pWA==;EndpointSuffix=core.windows.net'\n",
        "container_name = 'azureml-blobstore-7c2445a2-00ae-4d0f-a3e4-4b3156c1e490'\n",
        "blob_name = 'Online Retail.xlsx'\n",
        "\n",
        "# Initialize BlobServiceClient\n",
        "blob_service_client = BlobServiceClient.from_connection_string(connection_string)\n",
        "blob_client = blob_service_client.get_blob_client(container=container_name, blob=blob_name)\n",
        "\n",
        "# Download blob data to a BytesIO object\n",
        "blob_data = blob_client.download_blob()\n",
        "data = pd.read_excel(BytesIO(blob_data.readall()))\n"
      ],
      "outputs": [
        {
          "output_type": "display_data",
          "data": {
            "application/vnd.livy.statement-meta+json": {
              "spark_pool": "61faeae0-f889-4e44-aa8e-c51ade462ab5",
              "statement_id": 38,
              "statement_ids": [
                38
              ],
              "state": "finished",
              "livy_statement_state": "available",
              "spark_jobs": {
                "numbers": {
                  "FAILED": 0,
                  "RUNNING": 0,
                  "SUCCEEDED": 0,
                  "UNKNOWN": 0
                },
                "jobs": [],
                "limit": 20,
                "rule": "ALL_DESC"
              },
              "session_id": "28",
              "normalized_state": "finished",
              "queued_time": "2024-09-19T14:22:28.0215835Z",
              "session_start_time": null,
              "execution_start_time": "2024-09-19T14:22:28.1857526Z",
              "execution_finish_time": "2024-09-19T14:23:29.0252778Z",
              "parent_msg_id": "f717e272-2836-4e51-a74b-bd01c1a7fbbb"
            },
            "text/plain": "StatementMeta(61faeae0-f889-4e44-aa8e-c51ade462ab5, 28, 38, Finished, Available, Finished)"
          },
          "metadata": {}
        }
      ],
      "execution_count": 33,
      "metadata": {
        "jupyter": {
          "source_hidden": false,
          "outputs_hidden": false
        },
        "nteract": {
          "transient": {
            "deleting": false
          }
        },
        "gather": {
          "logged": 1726755808275
        }
      }
    },
    {
      "cell_type": "code",
      "source": [
        "print(data.isnull().sum())"
      ],
      "outputs": [
        {
          "output_type": "display_data",
          "data": {
            "application/vnd.livy.statement-meta+json": {
              "spark_pool": "61faeae0-f889-4e44-aa8e-c51ade462ab5",
              "statement_id": 41,
              "statement_ids": [
                41
              ],
              "state": "finished",
              "livy_statement_state": "available",
              "spark_jobs": {
                "numbers": {
                  "FAILED": 0,
                  "RUNNING": 0,
                  "SUCCEEDED": 0,
                  "UNKNOWN": 0
                },
                "jobs": [],
                "limit": 20,
                "rule": "ALL_DESC"
              },
              "session_id": "28",
              "normalized_state": "finished",
              "queued_time": "2024-09-19T14:24:22.2195212Z",
              "session_start_time": null,
              "execution_start_time": "2024-09-19T14:24:22.3275895Z",
              "execution_finish_time": "2024-09-19T14:24:23.1432748Z",
              "parent_msg_id": "534cbf57-441b-4d3d-b9a7-e6b64c345557"
            },
            "text/plain": "StatementMeta(61faeae0-f889-4e44-aa8e-c51ade462ab5, 28, 41, Finished, Available, Finished)"
          },
          "metadata": {}
        },
        {
          "output_type": "stream",
          "name": "stdout",
          "text": "InvoiceNo      0\nStockCode      0\nDescription    0\nQuantity       0\nInvoiceDate    0\nUnitPrice      0\nCountry        0\ndtype: int64\n"
        }
      ],
      "execution_count": 36,
      "metadata": {
        "jupyter": {
          "source_hidden": false,
          "outputs_hidden": false
        },
        "nteract": {
          "transient": {
            "deleting": false
          }
        },
        "gather": {
          "logged": 1726755862371
        }
      }
    },
    {
      "cell_type": "code",
      "source": [
        "data = data.drop(columns=['CustomerID'])\n",
        "data['Description'].fillna('Unknown', inplace=True)"
      ],
      "outputs": [
        {
          "output_type": "display_data",
          "data": {
            "application/vnd.livy.statement-meta+json": {
              "spark_pool": "61faeae0-f889-4e44-aa8e-c51ade462ab5",
              "statement_id": 40,
              "statement_ids": [
                40
              ],
              "state": "finished",
              "livy_statement_state": "available",
              "spark_jobs": {
                "numbers": {
                  "FAILED": 0,
                  "RUNNING": 0,
                  "SUCCEEDED": 0,
                  "UNKNOWN": 0
                },
                "jobs": [],
                "limit": 20,
                "rule": "ALL_DESC"
              },
              "session_id": "28",
              "normalized_state": "finished",
              "queued_time": "2024-09-19T14:24:17.1515116Z",
              "session_start_time": null,
              "execution_start_time": "2024-09-19T14:24:17.269708Z",
              "execution_finish_time": "2024-09-19T14:24:17.573092Z",
              "parent_msg_id": "72cd697a-e25d-4675-aba5-4d3502e0e2cc"
            },
            "text/plain": "StatementMeta(61faeae0-f889-4e44-aa8e-c51ade462ab5, 28, 40, Finished, Available, Finished)"
          },
          "metadata": {}
        }
      ],
      "execution_count": 35,
      "metadata": {
        "jupyter": {
          "source_hidden": false,
          "outputs_hidden": false
        },
        "nteract": {
          "transient": {
            "deleting": false
          }
        },
        "gather": {
          "logged": 1726755856776
        }
      }
    },
    {
      "cell_type": "code",
      "source": [
        "import pandas as pd\n",
        "data['InvoiceDate'] = pd.to_datetime(data['InvoiceDate'])\n",
        "\n",
        "data['Year'] = data['InvoiceDate'].dt.year\n",
        "data['Month'] = data['InvoiceDate'].dt.month\n",
        "data['Day'] = data['InvoiceDate'].dt.day"
      ],
      "outputs": [
        {
          "output_type": "display_data",
          "data": {
            "application/vnd.livy.statement-meta+json": {
              "spark_pool": "61faeae0-f889-4e44-aa8e-c51ade462ab5",
              "statement_id": 42,
              "statement_ids": [
                42
              ],
              "state": "finished",
              "livy_statement_state": "available",
              "spark_jobs": {
                "numbers": {
                  "FAILED": 0,
                  "RUNNING": 0,
                  "SUCCEEDED": 0,
                  "UNKNOWN": 0
                },
                "jobs": [],
                "limit": 20,
                "rule": "ALL_DESC"
              },
              "session_id": "28",
              "normalized_state": "finished",
              "queued_time": "2024-09-19T14:24:34.7910886Z",
              "session_start_time": null,
              "execution_start_time": "2024-09-19T14:24:34.9048883Z",
              "execution_finish_time": "2024-09-19T14:24:35.7446483Z",
              "parent_msg_id": "5b8e4e0b-b197-49f2-9c8a-1be3386e6a19"
            },
            "text/plain": "StatementMeta(61faeae0-f889-4e44-aa8e-c51ade462ab5, 28, 42, Finished, Available, Finished)"
          },
          "metadata": {}
        }
      ],
      "execution_count": 37,
      "metadata": {
        "jupyter": {
          "source_hidden": false,
          "outputs_hidden": false
        },
        "nteract": {
          "transient": {
            "deleting": false
          }
        },
        "gather": {
          "logged": 1726755874967
        }
      }
    },
    {
      "cell_type": "code",
      "source": [
        "from sklearn.preprocessing import LabelEncoder\n",
        "\n",
        "data['Description'] = data['Description'].astype(str)\n",
        "\n",
        "le = LabelEncoder()\n",
        "data['Description'] = le.fit_transform(data['Description'])\n"
      ],
      "outputs": [
        {
          "output_type": "display_data",
          "data": {
            "application/vnd.livy.statement-meta+json": {
              "spark_pool": "61faeae0-f889-4e44-aa8e-c51ade462ab5",
              "statement_id": 43,
              "statement_ids": [
                43
              ],
              "state": "finished",
              "livy_statement_state": "available",
              "spark_jobs": {
                "numbers": {
                  "FAILED": 0,
                  "RUNNING": 0,
                  "SUCCEEDED": 0,
                  "UNKNOWN": 0
                },
                "jobs": [],
                "limit": 20,
                "rule": "ALL_DESC"
              },
              "session_id": "28",
              "normalized_state": "finished",
              "queued_time": "2024-09-19T14:24:40.5190207Z",
              "session_start_time": null,
              "execution_start_time": "2024-09-19T14:24:40.6310626Z",
              "execution_finish_time": "2024-09-19T14:24:40.9396581Z",
              "parent_msg_id": "cb79711a-2104-4348-be38-dda87bbe7bb5"
            },
            "text/plain": "StatementMeta(61faeae0-f889-4e44-aa8e-c51ade462ab5, 28, 43, Finished, Available, Finished)"
          },
          "metadata": {}
        }
      ],
      "execution_count": 38,
      "metadata": {
        "jupyter": {
          "source_hidden": false,
          "outputs_hidden": false
        },
        "nteract": {
          "transient": {
            "deleting": false
          }
        },
        "gather": {
          "logged": 1726755880271
        }
      }
    },
    {
      "cell_type": "code",
      "source": [
        "# Convert 'InvoiceDate' to a proper datetime index\n",
        "data.set_index('InvoiceDate', inplace=True)\n",
        "\n",
        "# Aggregate the data daily, summing up quantities and calculating total revenue\n",
        "data_daily = data.resample('D').agg({\n",
        "    'Quantity': 'sum',               # Total quantity per day\n",
        "    'UnitPrice': 'mean',              # Average price per day\n",
        "    'InvoiceNo': 'nunique'            # Number of unique invoices per day\n",
        "})\n",
        "\n",
        "# Calculate total revenue (Quantity * UnitPrice)\n",
        "data_daily['Revenue'] = data_daily['Quantity'] * data_daily['UnitPrice']\n",
        "\n",
        "# View the first few rows\n",
        "print(data_daily.head())\n"
      ],
      "outputs": [
        {
          "output_type": "display_data",
          "data": {
            "application/vnd.livy.statement-meta+json": {
              "spark_pool": "61faeae0-f889-4e44-aa8e-c51ade462ab5",
              "statement_id": 44,
              "statement_ids": [
                44
              ],
              "state": "finished",
              "livy_statement_state": "available",
              "spark_jobs": {
                "numbers": {
                  "FAILED": 0,
                  "RUNNING": 0,
                  "SUCCEEDED": 0,
                  "UNKNOWN": 0
                },
                "jobs": [],
                "limit": 20,
                "rule": "ALL_DESC"
              },
              "session_id": "28",
              "normalized_state": "finished",
              "queued_time": "2024-09-19T14:24:44.3507592Z",
              "session_start_time": null,
              "execution_start_time": "2024-09-19T14:24:44.4660308Z",
              "execution_finish_time": "2024-09-19T14:24:44.7625793Z",
              "parent_msg_id": "8a46bc31-ba18-445c-bb72-aa4624b44ca1"
            },
            "text/plain": "StatementMeta(61faeae0-f889-4e44-aa8e-c51ade462ab5, 28, 44, Finished, Available, Finished)"
          },
          "metadata": {}
        },
        {
          "output_type": "stream",
          "name": "stdout",
          "text": "             Quantity  UnitPrice  InvoiceNo        Revenue\nInvoiceDate                                               \n2010-12-01      26814   4.151947        143  111330.295849\n2010-12-02      21023   3.231712        167   67940.275315\n2010-12-03      14830   5.047271        108   74851.023933\n2010-12-04          0        NaN          0            NaN\n2010-12-05      16395   2.896576         95   47489.365927\n"
        }
      ],
      "execution_count": 39,
      "metadata": {
        "jupyter": {
          "source_hidden": false,
          "outputs_hidden": false
        },
        "nteract": {
          "transient": {
            "deleting": false
          }
        },
        "gather": {
          "logged": 1726755884040
        }
      }
    },
    {
      "cell_type": "code",
      "source": [
        "import matplotlib.pyplot as plt\n",
        "\n",
        "# Plot the daily revenue to visualize trends\n",
        "plt.figure(figsize=(10,6))\n",
        "plt.plot(data_daily.index, data_daily['Revenue'], label='Daily Revenue')\n",
        "plt.title('Daily Revenue Over Time')\n",
        "plt.xlabel('Date')\n",
        "plt.ylabel('Revenue')\n",
        "plt.legend()\n",
        "plt.show()"
      ],
      "outputs": [
        {
          "output_type": "display_data",
          "data": {
            "application/vnd.livy.statement-meta+json": {
              "spark_pool": "61faeae0-f889-4e44-aa8e-c51ade462ab5",
              "statement_id": 45,
              "statement_ids": [
                45
              ],
              "state": "finished",
              "livy_statement_state": "available",
              "spark_jobs": {
                "numbers": {
                  "FAILED": 0,
                  "RUNNING": 0,
                  "SUCCEEDED": 0,
                  "UNKNOWN": 0
                },
                "jobs": [],
                "limit": 20,
                "rule": "ALL_DESC"
              },
              "session_id": "28",
              "normalized_state": "finished",
              "queued_time": "2024-09-19T14:24:48.3914515Z",
              "session_start_time": null,
              "execution_start_time": "2024-09-19T14:24:48.5062138Z",
              "execution_finish_time": "2024-09-19T14:24:49.4217707Z",
              "parent_msg_id": "5fb1f012-c8b5-4978-b3e7-342ef91b53c8"
            },
            "text/plain": "StatementMeta(61faeae0-f889-4e44-aa8e-c51ade462ab5, 28, 45, Finished, Available, Finished)"
          },
          "metadata": {}
        },
        {
          "output_type": "display_data",
          "data": {
            "text/plain": "<Figure size 1000x600 with 1 Axes>",
            "image/png": "[encoded data removed]"
          },
          "metadata": {}
        }
      ],
      "execution_count": 40,
      "metadata": {
        "jupyter": {
          "source_hidden": false,
          "outputs_hidden": false
        },
        "nteract": {
          "transient": {
            "deleting": false
          }
        },
        "gather": {
          "logged": 1726755890402
        }
      }
    },
    {
      "cell_type": "code",
      "source": [
        "data_daily['Revenue'].fillna(method='ffill', inplace=True)  # to remove impute values"
      ],
      "outputs": [
        {
          "output_type": "display_data",
          "data": {
            "application/vnd.livy.statement-meta+json": {
              "spark_pool": "61faeae0-f889-4e44-aa8e-c51ade462ab5",
              "statement_id": 46,
              "statement_ids": [
                46
              ],
              "state": "finished",
              "livy_statement_state": "available",
              "spark_jobs": {
                "numbers": {
                  "FAILED": 0,
                  "RUNNING": 0,
                  "SUCCEEDED": 0,
                  "UNKNOWN": 0
                },
                "jobs": [],
                "limit": 20,
                "rule": "ALL_DESC"
              },
              "session_id": "28",
              "normalized_state": "finished",
              "queued_time": "2024-09-19T14:24:55.3231895Z",
              "session_start_time": null,
              "execution_start_time": "2024-09-19T14:24:55.4291531Z",
              "execution_finish_time": "2024-09-19T14:24:55.7296677Z",
              "parent_msg_id": "c2dc4153-2920-461f-884c-1af3922a99e3"
            },
            "text/plain": "StatementMeta(61faeae0-f889-4e44-aa8e-c51ade462ab5, 28, 46, Finished, Available, Finished)"
          },
          "metadata": {}
        }
      ],
      "execution_count": 41,
      "metadata": {
        "jupyter": {
          "source_hidden": false,
          "outputs_hidden": false
        },
        "nteract": {
          "transient": {
            "deleting": false
          }
        },
        "gather": {
          "logged": 1726755895386
        }
      }
    },
    {
      "cell_type": "code",
      "source": [
        "from sklearn.preprocessing import MinMaxScaler\n",
        "import numpy as np\n",
        "\n",
        "# Initialize scalers for both features (X) and target (y)\n",
        "scaler_X = MinMaxScaler(feature_range=(0, 1))\n",
        "scaler_y = MinMaxScaler(feature_range=(0, 1))\n",
        "\n",
        "# Scale the features (Revenue)\n",
        "scaled_X = scaler_X.fit_transform(data_daily[['Revenue']])\n",
        "\n",
        "# Create sequences from the scaled data\n",
        "SEQ_LENGTH = 30  # Example: using past 30 days to predict the next day\n",
        "def create_sequences(data, seq_length):\n",
        "    xs = []\n",
        "    ys = []\n",
        "    for i in range(len(data) - seq_length):\n",
        "        x = data[i:i + seq_length]\n",
        "        y = data[i + seq_length]\n",
        "        xs.append(x)\n",
        "        ys.append(y)\n",
        "    return np.array(xs), np.array(ys)\n",
        "\n",
        "# Generate sequences\n",
        "X, y = create_sequences(scaled_X, SEQ_LENGTH)\n",
        "\n",
        "# Reshape y for scaling and scale it\n",
        "y = y.reshape(-1, 1)\n",
        "scaled_y = scaler_y.fit_transform(y)\n",
        "\n",
        "# Split into training and test sets\n",
        "train_size = int(len(X) * 0.8)\n",
        "X_train_scaled, X_test_scaled = X[:train_size], X[train_size:]\n",
        "y_train_scaled, y_test_scaled = scaled_y[:train_size], scaled_y[train_size:]\n"
      ],
      "outputs": [
        {
          "output_type": "display_data",
          "data": {
            "application/vnd.livy.statement-meta+json": {
              "spark_pool": "61faeae0-f889-4e44-aa8e-c51ade462ab5",
              "statement_id": 47,
              "statement_ids": [
                47
              ],
              "state": "finished",
              "livy_statement_state": "available",
              "spark_jobs": {
                "numbers": {
                  "FAILED": 0,
                  "RUNNING": 0,
                  "SUCCEEDED": 0,
                  "UNKNOWN": 0
                },
                "jobs": [],
                "limit": 20,
                "rule": "ALL_DESC"
              },
              "session_id": "28",
              "normalized_state": "finished",
              "queued_time": "2024-09-19T14:24:57.7736751Z",
              "session_start_time": null,
              "execution_start_time": "2024-09-19T14:24:57.8938966Z",
              "execution_finish_time": "2024-09-19T14:24:58.1893238Z",
              "parent_msg_id": "af1cb144-5fb8-4cf6-90ea-c7665db36084"
            },
            "text/plain": "StatementMeta(61faeae0-f889-4e44-aa8e-c51ade462ab5, 28, 47, Finished, Available, Finished)"
          },
          "metadata": {}
        }
      ],
      "execution_count": 42,
      "metadata": {
        "jupyter": {
          "source_hidden": false,
          "outputs_hidden": false
        },
        "nteract": {
          "transient": {
            "deleting": false
          }
        },
        "gather": {
          "logged": 1726755897636
        }
      }
    },
    {
      "cell_type": "code",
      "source": [
        "from keras.models import Sequential\n",
        "from keras.layers import LSTM, Dense\n",
        "\n",
        "# Define your LSTM model\n",
        "model = Sequential()\n",
        "model.add(LSTM(50, input_shape=(X_train_scaled.shape[1], X_train_scaled.shape[2])))\n",
        "model.add(Dense(1))  # Output layer for regression\n",
        "\n",
        "# Compile the model\n",
        "model.compile(optimizer='adam', loss='mean_squared_error')\n",
        "\n",
        "# Train the model with validation data\n",
        "history = model.fit(\n",
        "    X_train_scaled, y_train_scaled,\n",
        "    epochs=20,\n",
        "    batch_size=64,\n",
        "    validation_split=0.2,  # Reserve 20% of training data for validation\n",
        "    verbose=1\n",
        ")\n"
      ],
      "outputs": [
        {
          "output_type": "display_data",
          "data": {
            "application/vnd.livy.statement-meta+json": {
              "spark_pool": "61faeae0-f889-4e44-aa8e-c51ade462ab5",
              "statement_id": 48,
              "statement_ids": [
                48
              ],
              "state": "finished",
              "livy_statement_state": "available",
              "spark_jobs": {
                "numbers": {
                  "FAILED": 0,
                  "RUNNING": 0,
                  "SUCCEEDED": 0,
                  "UNKNOWN": 0
                },
                "jobs": [],
                "limit": 20,
                "rule": "ALL_DESC"
              },
              "session_id": "28",
              "normalized_state": "finished",
              "queued_time": "2024-09-19T14:25:01.1335683Z",
              "session_start_time": null,
              "execution_start_time": "2024-09-19T14:25:01.2511031Z",
              "execution_finish_time": "2024-09-19T14:25:09.3966604Z",
              "parent_msg_id": "f95440fd-b42c-4ace-a784-32256f81d28b"
            },
            "text/plain": "StatementMeta(61faeae0-f889-4e44-aa8e-c51ade462ab5, 28, 48, Finished, Available, Finished)"
          },
          "metadata": {}
        },
        {
          "output_type": "stream",
          "name": "stdout",
          "text": "Epoch 1/20\n4/4 [==============================] - 2s 228ms/step - loss: 0.0784 - val_loss: 0.0645\b\b\b\b\b\b\b\b\b\b\b\b\b\b\b\b\b\b\b\b\b\b\b\b\b\b\b\b\b\b\b\b\b\b\b\b\nEpoch 2/20\n4/4 [==============================] - 0s 56ms/step - loss: 0.0423 - val_loss: 0.0335\b\b\b\b\b\b\b\b\b\b\b\b\b\b\b\b\b\b\b\b\b\b\b\b\b\b\b\b\b\b\b\b\b\b\b\b\b\nEpoch 3/20\n4/4 [==============================] - 0s 51ms/step - loss: 0.0174 - val_loss: 0.0172\b\b\b\b\b\b\b\b\b\b\b\b\b\b\b\b\b\b\b\b\b\b\b\b\b\b\b\b\b\b\b\b\b\b\b\b\b\nEpoch 4/20\n4/4 [==============================] - 0s 67ms/step - loss: 0.0113 - val_loss: 0.0212\b\b\b\b\b\b\b\b\b\b\b\b\b\b\b\b\b\b\b\b\b\b\b\b\b\b\b\b\b\b\b\b\b\b\b\b\b\nEpoch 5/20\n4/4 [==============================] - 0s 63ms/step - loss: 0.0150 - val_loss: 0.0178\b\b\b\b\b\b\b\b\b\b\b\b\b\b\b\b\b\b\b\b\b\b\b\b\b\b\b\b\b\b\b\b\b\b\b\b\b\nEpoch 6/20\n4/4 [==============================] - 0s 53ms/step - loss: 0.0111 - val_loss: 0.0169\b\b\b\b\b\b\b\b\b\b\b\b\b\b\b\b\b\b\b\b\b\b\b\b\b\b\b\b\b\b\b\b\b\b\b\b\b\nEpoch 7/20\n4/4 [==============================] - 0s 47ms/step - loss: 0.0101 - val_loss: 0.0179\b\b\b\b\b\b\b\b\b\b\b\b\b\b\b\b\b\b\b\b\b\b\b\b\b\b\b\b\b\b\b\b\b\b\b\b\b\nEpoch 8/20\n4/4 [==============================] - 0s 70ms/step - loss: 0.0108 - val_loss: 0.0182\b\b\b\b\b\b\b\b\b\b\b\b\b\b\b\b\b\b\b\b\b\b\b\b\b\b\b\b\b\b\b\b\b\b\b\b\b\nEpoch 9/20\n4/4 [==============================] - 0s 73ms/step - loss: 0.0108 - val_loss: 0.0177\b\b\b\b\b\b\b\b\b\b\b\b\b\b\b\b\b\b\b\b\b\b\b\b\b\b\b\b\b\b\b\b\b\b\b\b\b\nEpoch 10/20\n4/4 [==============================] - 0s 77ms/step - loss: 0.0104 - val_loss: 0.0171\b\b\b\b\b\b\b\b\b\b\b\b\b\b\b\b\b\b\b\b\b\b\b\b\b\b\b\b\b\b\b\b\b\b\b\b\b\nEpoch 11/20\n4/4 [==============================] - 0s 83ms/step - loss: 0.0101 - val_loss: 0.0168\b\b\b\b\b\b\b\b\b\b\b\b\b\b\b\b\b\b\b\b\b\b\b\b\b\b\b\b\b\b\b\b\b\b\b\b\b\nEpoch 12/20\n4/4 [==============================] - 0s 63ms/step - loss: 0.0100 - val_loss: 0.0167\b\b\b\b\b\b\b\b\b\b\b\b\b\b\b\b\b\b\b\b\b\b\b\b\b\b\b\b\b\b\b\b\b\b\b\b\b\nEpoch 13/20\n4/4 [==============================] - 0s 88ms/step - loss: 0.0101 - val_loss: 0.0167\b\b\b\b\b\b\b\b\b\b\b\b\b\b\b\b\b\b\b\b\b\b\b\b\b\b\b\b\b\b\b\b\b\b\b\b\b\nEpoch 14/20\n4/4 [==============================] - 0s 65ms/step - loss: 0.0101 - val_loss: 0.0168\b\b\b\b\b\b\b\b\b\b\b\b\b\b\b\b\b\b\b\b\b\b\b\b\b\b\b\b\b\b\b\b\b\b\b\b\b\nEpoch 15/20\n4/4 [==============================] - 0s 87ms/step - loss: 0.0100 - val_loss: 0.0168\b\b\b\b\b\b\b\b\b\b\b\b\b\b\b\b\b\b\b\b\b\b\b\b\b\b\b\b\b\b\b\b\b\b\b\b\b\nEpoch 16/20\n4/4 [==============================] - 0s 55ms/step - loss: 0.0100 - val_loss: 0.0169\b\b\b\b\b\b\b\b\b\b\b\b\b\b\b\b\b\b\b\b\b\b\b\b\b\b\b\b\b\b\b\b\b\b\b\b\b\nEpoch 17/20\n4/4 [==============================] - 0s 55ms/step - loss: 0.0100 - val_loss: 0.0169\b\b\b\b\b\b\b\b\b\b\b\b\b\b\b\b\b\b\b\b\b\b\b\b\b\b\b\b\b\b\b\b\b\b\b\b\b\nEpoch 18/20\n4/4 [==============================] - 0s 71ms/step - loss: 0.0100 - val_loss: 0.0169\b\b\b\b\b\b\b\b\b\b\b\b\b\b\b\b\b\b\b\b\b\b\b\b\b\b\b\b\b\b\b\b\b\b\b\b\b\nEpoch 19/20\n4/4 [==============================] - 0s 55ms/step - loss: 0.0100 - val_loss: 0.0169\b\b\b\b\b\b\b\b\b\b\b\b\b\b\b\b\b\b\b\b\b\b\b\b\b\b\b\b\b\b\b\b\b\b\b\b\b\nEpoch 20/20\n4/4 [==============================] - 0s 57ms/step - loss: 0.0100 - val_loss: 0.0169\b\b\b\b\b\b\b\b\b\b\b\b\b\b\b\b\b\b\b\b\b\b\b\b\b\b\b\b\b\b\b\b\b\b\b\b\b\n"
        }
      ],
      "execution_count": 43,
      "metadata": {
        "jupyter": {
          "source_hidden": false,
          "outputs_hidden": false
        },
        "nteract": {
          "transient": {
            "deleting": false
          }
        },
        "gather": {
          "logged": 1726755909176
        }
      }
    },
    {
      "cell_type": "code",
      "source": [
        "# Make predictions\n",
        "predictions = model.predict(X_test_scaled)\n",
        "\n",
        "# Inverse transform the predictions and actual values to get them back to the original scale\n",
        "predictions = scaler_y.inverse_transform(predictions)\n",
        "y_test_scaled_inv = scaler_y.inverse_transform(y_test_scaled)\n",
        "\n",
        "from sklearn.metrics import mean_squared_error, mean_absolute_error\n",
        "\n",
        "# Calculate Mean Squared Error and Mean Absolute Error\n",
        "mse = mean_squared_error(y_test_scaled, y_pred)\n",
        "mae = mean_absolute_error(y_test_scaled, y_pred)\n",
        "\n",
        "print(\"Mean Squared Error:\", mse)\n",
        "print(\"Mean Absolute Error:\", mae)\n"
      ],
      "outputs": [
        {
          "output_type": "display_data",
          "data": {
            "application/vnd.livy.statement-meta+json": {
              "spark_pool": "61faeae0-f889-4e44-aa8e-c51ade462ab5",
              "statement_id": 70,
              "statement_ids": [
                70
              ],
              "state": "finished",
              "livy_statement_state": "available",
              "spark_jobs": {
                "numbers": {
                  "FAILED": 0,
                  "RUNNING": 0,
                  "SUCCEEDED": 0,
                  "UNKNOWN": 0
                },
                "jobs": [],
                "limit": 20,
                "rule": "ALL_DESC"
              },
              "session_id": "28",
              "normalized_state": "finished",
              "queued_time": "2024-09-19T14:47:35.3220758Z",
              "session_start_time": null,
              "execution_start_time": "2024-09-19T14:47:35.4485875Z",
              "execution_finish_time": "2024-09-19T14:47:36.271385Z",
              "parent_msg_id": "00e26441-ecf8-40b1-be7d-c613da864e05"
            },
            "text/plain": "StatementMeta(61faeae0-f889-4e44-aa8e-c51ade462ab5, 28, 70, Finished, Available, Finished)"
          },
          "metadata": {}
        },
        {
          "output_type": "stream",
          "name": "stdout",
          "text": "9/9 [==============================] - 0s 15ms/step\b\b\b\b\b\b\b\b\b\b\b\b\b\b\b\b\b\b\b\b\b\b\b\b\b\b\b\b\b\b\b\b\b\b\b\b\b\b\b\b\b\nMean Squared Error: 30842721.094929967\nMean Absolute Error: 5540.708280450319\n"
        }
      ],
      "execution_count": 65,
      "metadata": {
        "jupyter": {
          "source_hidden": false,
          "outputs_hidden": false
        },
        "nteract": {
          "transient": {
            "deleting": false
          }
        },
        "gather": {
          "logged": 1726757255590
        }
      }
    },
    {
      "cell_type": "code",
      "source": [
        "!pip install keras-tuner\n",
        "\n",
        "import keras_tuner as kt\n",
        "from keras.models import Sequential\n",
        "from keras.layers import LSTM, Dense\n",
        "from keras.optimizers import Adam\n",
        "\n",
        "# Define a function to build the model with hyperparameters\n",
        "def build_model(hp):\n",
        "    model = Sequential()\n",
        "\n",
        "    # Tuning the number of LSTM units\n",
        "    model.add(LSTM(units=hp.Int('units', min_value=50, max_value=200, step=50),\n",
        "                   input_shape=(X_train_scaled.shape[1], X_train_scaled.shape[2])))\n",
        "\n",
        "    # Output layer for regression\n",
        "    model.add(Dense(1))  \n",
        "\n",
        "    # Tuning the learning rate\n",
        "    learning_rate = hp.Float('learning_rate', min_value=1e-4, max_value=1e-2, sampling='log')\n",
        "    \n",
        "    # Compile the model\n",
        "    model.compile(optimizer=Adam(learning_rate=learning_rate), loss='mean_squared_error')\n",
        "    \n",
        "    return model\n",
        "\n",
        "# Set up Keras Tuner to do Random Search\n",
        "tuner = kt.RandomSearch(\n",
        "    build_model,\n",
        "    objective='val_loss',\n",
        "    max_trials=5,\n",
        "    executions_per_trial=3,\n",
        "    directory='/tmp/hyperparameter_tuning',  # Change this to a directory you have access to\n",
        "    project_name='lstm_sales_forecasting'\n",
        ")\n",
        "\n",
        "\n",
        "# Search for the best hyperparameters\n",
        "tuner.search(X_train_scaled, y_train_scaled,\n",
        "             epochs=20,  # You can tune epochs as well if needed\n",
        "             batch_size=64,  # Tune the batch size too, but keeping it constant here for simplicity\n",
        "             validation_split=0.2,  # 20% of data for validation\n",
        "             verbose=1)\n",
        "\n",
        "# Get the best model and hyperparameters\n",
        "best_model = tuner.get_best_models(num_models=1)[0]\n",
        "best_hyperparameters = tuner.get_best_hyperparameters(num_trials=1)[0]\n",
        "\n",
        "# Print the best hyperparameters\n",
        "print(f\"Best hyperparameters: {best_hyperparameters.values}\")\n",
        "\n",
        "# Train the best model again on the full dataset (Optional)\n",
        "history = best_model.fit(\n",
        "    X_train_scaled, y_train_scaled,\n",
        "    epochs=20,\n",
        "    batch_size=64,\n",
        "    validation_split=0.2,\n",
        "    verbose=1\n",
        ")\n"
      ],
      "outputs": [
        {
          "output_type": "stream",
          "name": "stdout",
          "text": "Trial 5 Complete [00h 00m 53s]\nval_loss: 0.006116244476288557\n\nBest val_loss So Far: 0.006016827343652646\nTotal elapsed time: 00h 05m 26s\nBest hyperparameters: {'units': 50, 'learning_rate': 0.006336077696202977}\nEpoch 1/20\n15/15 [==============================] - 3s 85ms/step - loss: 0.0059 - val_loss: 0.0061\b\b\b\b\b\b\b\b\b\b\b\b\b\b\b\b\b\b\b\b\b\b\b\b\b\b\b\b\b\b\b\b\b\b\b\b\b\b\b\b\b\nEpoch 2/20\n15/15 [==============================] - 1s 42ms/step - loss: 0.0059 - val_loss: 0.0060\b\b\b\b\b\b\b\b\b\b\b\b\b\b\b\b\b\b\b\b\b\b\b\b\b\b\b\b\b\b\b\b\b\b\b\b\b\b\b\nEpoch 3/20\n15/15 [==============================] - 1s 41ms/step - loss: 0.0058 - val_loss: 0.0061\b\b\b\b\b\b\b\b\b\b\b\b\b\b\b\b\b\b\b\b\b\b\b\b\b\b\b\b\b\b\b\b\b\b\b\b\b\b\b\nEpoch 4/20\n15/15 [==============================] - 1s 45ms/step - loss: 0.0058 - val_loss: 0.0064\b\b\b\b\b\b\b\b\b\b\b\b\b\b\b\b\b\b\b\b\b\b\b\b\b\b\b\b\b\b\b\b\b\b\b\b\b\b\b\nEpoch 5/20\n15/15 [==============================] - 1s 45ms/step - loss: 0.0057 - val_loss: 0.0061\b\b\b\b\b\b\b\b\b\b\b\b\b\b\b\b\b\b\b\b\b\b\b\b\b\b\b\b\b\b\b\b\b\b\b\b\b\b\b\nEpoch 6/20\n15/15 [==============================] - 1s 53ms/step - loss: 0.0058 - val_loss: 0.0060\b\b\b\b\b\b\b\b\b\b\b\b\b\b\b\b\b\b\b\b\b\b\b\b\b\b\b\b\b\b\b\b\b\b\b\b\b\b\b\nEpoch 7/20\n15/15 [==============================] - 1s 43ms/step - loss: 0.0058 - val_loss: 0.0066\b\b\b\b\b\b\b\b\b\b\b\b\b\b\b\b\b\b\b\b\b\b\b\b\b\b\b\b\b\b\b\b\b\b\b\b\b\b\b\nEpoch 8/20\n15/15 [==============================] - 1s 48ms/step - loss: 0.0058 - val_loss: 0.0063\b\b\b\b\b\b\b\b\b\b\b\b\b\b\b\b\b\b\b\b\b\b\b\b\b\b\b\b\b\b\b\b\b\b\b\b\b\b\b\nEpoch 9/20\n15/15 [==============================] - 1s 49ms/step - loss: 0.0057 - val_loss: 0.0063\b\b\b\b\b\b\b\b\b\b\b\b\b\b\b\b\b\b\b\b\b\b\b\b\b\b\b\b\b\b\b\b\b\b\b\b\b\b\b\nEpoch 10/20\n15/15 [==============================] - 1s 42ms/step - loss: 0.0057 - val_loss: 0.0064\b\b\b\b\b\b\b\b\b\b\b\b\b\b\b\b\b\b\b\b\b\b\b\b\b\b\b\b\b\b\b\b\b\b\b\b\b\b\b\nEpoch 11/20\n15/15 [==============================] - 1s 42ms/step - loss: 0.0058 - val_loss: 0.0063\b\b\b\b\b\b\b\b\b\b\b\b\b\b\b\b\b\b\b\b\b\b\b\b\b\b\b\b\b\b\b\b\b\b\b\b\b\b\b\nEpoch 12/20\n15/15 [==============================] - 1s 46ms/step - loss: 0.0058 - val_loss: 0.0062\b\b\b\b\b\b\b\b\b\b\b\b\b\b\b\b\b\b\b\b\b\b\b\b\b\b\b\b\b\b\b\b\b\b\b\b\b\b\b\nEpoch 13/20\n15/15 [==============================] - 1s 40ms/step - loss: 0.0058 - val_loss: 0.0065\b\b\b\b\b\b\b\b\b\b\b\b\b\b\b\b\b\b\b\b\b\b\b\b\b\b\b\b\b\b\b\b\b\b\b\b\b\b\b\nEpoch 14/20\n15/15 [==============================] - 1s 54ms/step - loss: 0.0058 - val_loss: 0.0063\b\b\b\b\b\b\b\b\b\b\b\b\b\b\b\b\b\b\b\b\b\b\b\b\b\b\b\b\b\b\b\b\b\b\b\b\b\b\b\nEpoch 15/20\n15/15 [==============================] - 1s 41ms/step - loss: 0.0057 - val_loss: 0.0061\b\b\b\b\b\b\b\b\b\b\b\b\b\b\b\b\b\b\b\b\b\b\b\b\b\b\b\b\b\b\b\b\b\b\b\b\b\b\b\nEpoch 16/20\n15/15 [==============================] - 1s 41ms/step - loss: 0.0057 - val_loss: 0.0064\b\b\b\b\b\b\b\b\b\b\b\b\b\b\b\b\b\b\b\b\b\b\b\b\b\b\b\b\b\b\b\b\b\b\b\b\b\b\b\nEpoch 17/20\n15/15 [==============================] - 1s 52ms/step - loss: 0.0057 - val_loss: 0.0061\b\b\b\b\b\b\b\b\b\b\b\b\b\b\b\b\b\b\b\b\b\b\b\b\b\b\b\b\b\b\b\b\b\b\b\b\b\b\b\nEpoch 18/20\n15/15 [==============================] - 1s 55ms/step - loss: 0.0057 - val_loss: 0.0069\b\b\b\b\b\b\b\b\b\b\b\b\b\b\b\b\b\b\b\b\b\b\b\b\b\b\b\b\b\b\b\b\b\b\b\b\b\b\b\nEpoch 19/20\n15/15 [==============================] - 1s 44ms/step - loss: 0.0058 - val_loss: 0.0060\b\b\b\b\b\b\b\b\b\b\b\b\b\b\b\b\b\b\b\b\b\b\b\b\b\b\b\b\b\b\b\b\b\b\b\b\b\b\b\nEpoch 20/20\n15/15 [==============================] - 1s 49ms/step - loss: 0.0057 - val_loss: 0.0066\b\b\b\b\b\b\b\b\b\b\b\b\b\b\b\b\b\b\b\b\b\b\b\b\b\b\b\b\b\b\b\b\b\b\b\b\b\b\b\n"
        }
      ],
      "execution_count": 75,
      "metadata": {
        "jupyter": {
          "source_hidden": false,
          "outputs_hidden": false
        },
        "nteract": {
          "transient": {
            "deleting": false
          }
        },
        "gather": {
          "logged": 1726759128235
        }
      }
    },
    {
      "cell_type": "code",
      "source": [
        "# Make predictions\n",
        "predictions = model.predict(X_test_scaled)\n",
        "\n",
        "# If your y_test_scaled is scaled, reverse the scaling\n",
        "predictions_rescaled = scaler_y.inverse_transform(predictions)\n",
        "y_test_rescaled = scaler_y.inverse_transform(y_test_scaled)\n",
        "\n",
        "# Calculate evaluation metrics like Mean Squared Error (MSE) and Mean Absolute Error (MAE)\n",
        "from sklearn.metrics import mean_squared_error, mean_absolute_error\n",
        "\n",
        "mse = mean_squared_error(y_test_rescaled, predictions_rescaled)\n",
        "mae = mean_absolute_error(y_test_rescaled, predictions_rescaled)\n",
        "\n",
        "print(f'Mean Squared Error: {mse}')\n",
        "print(f'Mean Absolute Error: {mae}')\n"
      ],
      "outputs": [
        {
          "output_type": "display_data",
          "data": {
            "application/vnd.livy.statement-meta+json": {
              "spark_pool": "61faeae0-f889-4e44-aa8e-c51ade462ab5",
              "statement_id": 81,
              "statement_ids": [
                81
              ],
              "state": "finished",
              "livy_statement_state": "available",
              "spark_jobs": {
                "numbers": {
                  "FAILED": 0,
                  "RUNNING": 0,
                  "SUCCEEDED": 0,
                  "UNKNOWN": 0
                },
                "jobs": [],
                "limit": 20,
                "rule": "ALL_DESC"
              },
              "session_id": "28",
              "normalized_state": "finished",
              "queued_time": "2024-09-19T15:22:24.0454138Z",
              "session_start_time": null,
              "execution_start_time": "2024-09-19T15:22:24.1901888Z",
              "execution_finish_time": "2024-09-19T15:22:25.0264329Z",
              "parent_msg_id": "3e9c7227-d1a8-4dad-8bda-c230a2fea3b5"
            },
            "text/plain": "StatementMeta(61faeae0-f889-4e44-aa8e-c51ade462ab5, 28, 81, Finished, Available, Finished)"
          },
          "metadata": {}
        },
        {
          "output_type": "stream",
          "name": "stdout",
          "text": "\r1/9 [==>...........................] - ETA: 1s\b\b\b\b\b\b\b\b\b\b\b\b\b\b\b\b\b\b\b\b\b\b\b\b\b\b\b\b\b\b\b\b\b\b\b\b\b\b\b\b\b\b\b\b\b\b\r5/9 [===============>..............] - ETA: 0s\b\b\b\b\b\b\b\b\b\b\b\b\b\b\b\b\b\b\b\b\b\b\b\b\b\b\b\b\b\b\b\b\b\b\b\b\b\b\b\b\b\b\b\b\b\b\r8/9 [=========================>....] - ETA: 0s\b\b\b\b\b\b\b\b\b\b\b\b\b\b\b\b\b\b\b\b\b\b\b\b\b\b\b\b\b\b\b\b\b\b\b\b\b\b\b\b\b\b\b\b\b\b\r9/9 [==============================] - 0s 17ms/step\nMean Squared Error: 0.023174850108224943\nMean Absolute Error: 0.14055913061197708\n"
        }
      ],
      "execution_count": 76,
      "metadata": {
        "jupyter": {
          "source_hidden": false,
          "outputs_hidden": false
        },
        "nteract": {
          "transient": {
            "deleting": false
          }
        },
        "gather": {
          "logged": 1726759344427
        }
      }
    },
    {
      "cell_type": "code",
      "source": [
        "import matplotlib.pyplot as plt\n",
        "\n",
        "# Plot training & validation loss values\n",
        "plt.figure(figsize=(12, 6))\n",
        "\n",
        "# Training loss\n",
        "plt.plot(history.history['loss'])\n",
        "# Validation loss\n",
        "plt.plot(history.history['val_loss'])\n",
        "\n",
        "plt.title('Model Loss')\n",
        "plt.xlabel('Epoch')\n",
        "plt.ylabel('Loss')\n",
        "plt.legend(['Training Loss', 'Validation Loss'])\n",
        "plt.grid(True)\n",
        "plt.show()\n"
      ],
      "outputs": [
        {
          "output_type": "display_data",
          "data": {
            "application/vnd.livy.statement-meta+json": {
              "spark_pool": "61faeae0-f889-4e44-aa8e-c51ade462ab5",
              "statement_id": 85,
              "statement_ids": [
                85
              ],
              "state": "finished",
              "livy_statement_state": "available",
              "spark_jobs": {
                "numbers": {
                  "FAILED": 0,
                  "RUNNING": 0,
                  "SUCCEEDED": 0,
                  "UNKNOWN": 0
                },
                "jobs": [],
                "limit": 20,
                "rule": "ALL_DESC"
              },
              "session_id": "28",
              "normalized_state": "finished",
              "queued_time": "2024-09-19T15:42:56.8844489Z",
              "session_start_time": null,
              "execution_start_time": "2024-09-19T15:42:57.0567743Z",
              "execution_finish_time": "2024-09-19T15:42:57.9109953Z",
              "parent_msg_id": "69438ac8-ef52-4a1d-9177-6558e5094571"
            },
            "text/plain": "StatementMeta(61faeae0-f889-4e44-aa8e-c51ade462ab5, 28, 85, Finished, Available, Finished)"
          },
          "metadata": {}
        },
        {
          "output_type": "display_data",
          "data": {
            "text/plain": "<Figure size 1200x600 with 1 Axes>",
            "image/png": "[encoded data removed]"
          },
          "metadata": {}
        }
      ],
      "execution_count": 80,
      "metadata": {
        "jupyter": {
          "source_hidden": false,
          "outputs_hidden": false
        },
        "nteract": {
          "transient": {
            "deleting": false
          }
        },
        "gather": {
          "logged": 1726760578142
        }
      }
    },
    {
      "cell_type": "code",
      "source": [
        "model.save('lstm_sales_model.h5')"
      ],
      "outputs": [
        {
          "output_type": "display_data",
          "data": {
            "application/vnd.livy.statement-meta+json": {
              "spark_pool": "61faeae0-f889-4e44-aa8e-c51ade462ab5",
              "statement_id": 86,
              "statement_ids": [
                86
              ],
              "state": "finished",
              "livy_statement_state": "available",
              "spark_jobs": {
                "numbers": {
                  "FAILED": 0,
                  "RUNNING": 0,
                  "SUCCEEDED": 0,
                  "UNKNOWN": 0
                },
                "jobs": [],
                "limit": 20,
                "rule": "ALL_DESC"
              },
              "session_id": "28",
              "normalized_state": "finished",
              "queued_time": "2024-09-19T15:43:02.7015225Z",
              "session_start_time": null,
              "execution_start_time": "2024-09-19T15:43:02.8527173Z",
              "execution_finish_time": "2024-09-19T15:43:03.6854948Z",
              "parent_msg_id": "efccba21-8d90-4570-98f9-c2cb42b36aa5"
            },
            "text/plain": "StatementMeta(61faeae0-f889-4e44-aa8e-c51ade462ab5, 28, 86, Finished, Available, Finished)"
          },
          "metadata": {}
        }
      ],
      "execution_count": 81,
      "metadata": {
        "jupyter": {
          "source_hidden": false,
          "outputs_hidden": false
        },
        "nteract": {
          "transient": {
            "deleting": false
          }
        },
        "gather": {
          "logged": 1726760582873
        }
      }
    }
  ],
  "metadata": {
    "kernelspec": {
      "name": "synapse_pyspark",
      "language": "Python",
      "display_name": "Synapse PySpark"
    },
    "language_info": {
      "name": "python",
      "version": "3.8.0",
      "mimetype": "text/x-python",
      "file_extension": ".py",
      "pygments_lexer": "ipython",
      "codemirror_mode": "ipython",
      "nbconvert_exporter": "python"
    },
    "microsoft": {
      "ms_spell_check": {
        "ms_spell_check_language": "en"
      },
      "host": {
        "AzureML": {
          "notebookHasBeenCompleted": true
        }
      }
    },
    "kernel_info": {
      "name": "synapse_pyspark"
    },
    "nteract": {
      "version": "nteract-front-end@1.0.0"
    }
  },
  "nbformat": 4,
  "nbformat_minor": 2
}